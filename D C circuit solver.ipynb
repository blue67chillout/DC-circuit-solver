{
 "cells": [
  {
   "cell_type": "code",
   "execution_count": 1,
   "id": "37d5bfb4",
   "metadata": {},
   "outputs": [],
   "source": [
    "import pandas as pd\n",
    "import numpy as np"
   ]
  },
  {
   "cell_type": "code",
   "execution_count": 2,
   "id": "354900fd",
   "metadata": {},
   "outputs": [],
   "source": [
    "net = pd.read_csv('netlist1.txt',sep = ' ',names =['component','from node','to node','value'] )\n",
    "    "
   ]
  },
  {
   "cell_type": "code",
   "execution_count": 3,
   "id": "7b24e3cf",
   "metadata": {},
   "outputs": [
    {
     "name": "stdout",
     "output_type": "stream",
     "text": [
      "  component  from node  to node  value\n",
      "0        V1          1        0      4\n",
      "1        V2          3        2      6\n",
      "2        R1          1        2      1\n",
      "3        R2          2        0      4\n",
      "4        R3          3        0      2\n",
      "5        I1          1        2      1\n"
     ]
    }
   ],
   "source": [
    "print(net)"
   ]
  },
  {
   "cell_type": "code",
   "execution_count": 4,
   "id": "25f6029c",
   "metadata": {},
   "outputs": [],
   "source": [
    "component_map = {'V':23,'R':24,'I':25}\n",
    "net['component'] = net['component'].map(lambda x:component_map[x[0]])\n"
   ]
  },
  {
   "cell_type": "code",
   "execution_count": 5,
   "id": "2ea18d1d",
   "metadata": {},
   "outputs": [
    {
     "name": "stdout",
     "output_type": "stream",
     "text": [
      "   component  from node  to node  value\n",
      "0         23          1        0      4\n",
      "1         23          3        2      6\n",
      "2         24          1        2      1\n",
      "3         24          2        0      4\n",
      "4         24          3        0      2\n",
      "5         25          1        2      1\n"
     ]
    }
   ],
   "source": [
    "print(net)"
   ]
  },
  {
   "cell_type": "code",
   "execution_count": 6,
   "id": "50678e72",
   "metadata": {},
   "outputs": [],
   "source": [
    "net_arr = np.array(net)"
   ]
  },
  {
   "cell_type": "code",
   "execution_count": 7,
   "id": "5bcf3c55",
   "metadata": {},
   "outputs": [
    {
     "name": "stdout",
     "output_type": "stream",
     "text": [
      "[[23  1  0  4]\n",
      " [23  3  2  6]\n",
      " [24  1  2  1]\n",
      " [24  2  0  4]\n",
      " [24  3  0  2]\n",
      " [25  1  2  1]]\n"
     ]
    }
   ],
   "source": [
    "print(net_arr)"
   ]
  },
  {
   "cell_type": "code",
   "execution_count": 8,
   "id": "ddf0c6f1",
   "metadata": {},
   "outputs": [],
   "source": [
    "#Admitance matrix\n",
    "no_node = net_arr[:,[1,2]].max()\n",
    "no_branches = net_arr.shape[0]\n",
    "def admitance_matrix(net_arr):\n",
    "    \n",
    "    Yn = np.zeros((no_node,no_node))\n",
    "    res_branch = net_arr[net_arr[:,0] == 24,:]\n",
    "    for i in range(res_branch.shape[0]):\n",
    "        g = 1/res_branch[i,3]\n",
    "        from_node = res_branch[i,1]\n",
    "        to_node = res_branch[i,2]\n",
    "        if from_node != 0:\n",
    "            if to_node != 0:\n",
    "                Yn[from_node - 1,to_node - 1] += -g\n",
    "                Yn[to_node - 1,from_node - 1] += -g\n",
    "                Yn[from_node - 1,from_node - 1] += g\n",
    "                Yn[to_node - 1,to_node - 1] += g\n",
    "            else:\n",
    "                Yn[from_node - 1,from_node - 1] += g\n",
    "                \n",
    "        else:\n",
    "            Yn[to_node - 1,to_node - 1] += g\n",
    "            \n",
    "    return Yn\n",
    "            "
   ]
  },
  {
   "cell_type": "code",
   "execution_count": 9,
   "id": "d5c82a07",
   "metadata": {},
   "outputs": [
    {
     "name": "stdout",
     "output_type": "stream",
     "text": [
      "[[ 1.   -1.    0.  ]\n",
      " [-1.    1.25  0.  ]\n",
      " [ 0.    0.    0.5 ]]\n"
     ]
    }
   ],
   "source": [
    "Yn = admitance_matrix(net_arr)\n",
    "print(Yn)\n"
   ]
  },
  {
   "cell_type": "code",
   "execution_count": 10,
   "id": "be38417c",
   "metadata": {},
   "outputs": [],
   "source": [
    "vs_branch = net_arr[net_arr[:,0] == 23,:]\n",
    "is_branch = net_arr[net_arr[:,0] == 25,:]\n",
    "no_vs = vs_branch.shape[0]"
   ]
  },
  {
   "cell_type": "code",
   "execution_count": 11,
   "id": "17c93044",
   "metadata": {},
   "outputs": [
    {
     "name": "stdout",
     "output_type": "stream",
     "text": [
      "[[23  1  0  4]\n",
      " [23  3  2  6]]\n"
     ]
    }
   ],
   "source": [
    "print(vs_branch)"
   ]
  },
  {
   "cell_type": "code",
   "execution_count": 12,
   "id": "807fbf61",
   "metadata": {},
   "outputs": [
    {
     "name": "stdout",
     "output_type": "stream",
     "text": [
      "[1 3 1 2 3 1]\n"
     ]
    }
   ],
   "source": [
    "print(net_arr[:,1])"
   ]
  },
  {
   "cell_type": "code",
   "execution_count": 13,
   "id": "24ca4e06",
   "metadata": {},
   "outputs": [],
   "source": [
    "#Vadj\n",
    "\n",
    "no_vs  = vs_branch.shape[0]\n",
    "def vadjjj(net_arr):\n",
    "    vs_branch = net_arr[net_arr[:,0] == 23,:]\n",
    "    #no_node = net_arr[:,[1,2]].max()\n",
    "    vadjj = np.zeros((no_node,no_vs))\n",
    "    for k in range(no_vs):\n",
    "        for j in range(no_node):\n",
    "            if vs_branch[k,1] == j+1:\n",
    "                vadjj[j,k] = 1\n",
    "            elif vs_branch[k,2] == j+1:\n",
    "                vadjj[j,k] = -1\n",
    "            else:\n",
    "                vadjj[j,k] = 0\n",
    "    return vadjj\n"
   ]
  },
  {
   "cell_type": "code",
   "execution_count": 14,
   "id": "d0ce1a35",
   "metadata": {},
   "outputs": [],
   "source": [
    "zero_mat = np.zeros((no_vs,no_vs))"
   ]
  },
  {
   "cell_type": "code",
   "execution_count": 15,
   "id": "61f25741",
   "metadata": {},
   "outputs": [
    {
     "name": "stdout",
     "output_type": "stream",
     "text": [
      "[[0. 0.]\n",
      " [0. 0.]]\n"
     ]
    }
   ],
   "source": [
    "print(zero_mat)"
   ]
  },
  {
   "cell_type": "code",
   "execution_count": 16,
   "id": "beac9cc7",
   "metadata": {},
   "outputs": [
    {
     "name": "stdout",
     "output_type": "stream",
     "text": [
      "[[ 1.  0.  0.]\n",
      " [ 0. -1.  1.]]\n"
     ]
    }
   ],
   "source": [
    "vadj = vadjjj(net_arr)\n",
    "vadjT = vadj.T\n",
    "print(vadjT)"
   ]
  },
  {
   "cell_type": "code",
   "execution_count": 17,
   "id": "bcc057c4",
   "metadata": {},
   "outputs": [],
   "source": [
    "a = np.concatenate((Yn,vadj),axis = 1)\n",
    "b = np.concatenate((vadjT,zero_mat),axis = 1)\n",
    "Mna_mat = np.concatenate((a,b))"
   ]
  },
  {
   "cell_type": "code",
   "execution_count": 18,
   "id": "d5bbc042",
   "metadata": {},
   "outputs": [
    {
     "name": "stdout",
     "output_type": "stream",
     "text": [
      "[[ 1.   -1.    0.    1.    0.  ]\n",
      " [-1.    1.25  0.    0.   -1.  ]\n",
      " [ 0.    0.    0.5   0.    1.  ]\n",
      " [ 1.    0.    0.    0.    0.  ]\n",
      " [ 0.   -1.    1.    0.    0.  ]]\n"
     ]
    }
   ],
   "source": [
    "print(Mna_mat)"
   ]
  },
  {
   "cell_type": "code",
   "execution_count": 19,
   "id": "74a63a04",
   "metadata": {},
   "outputs": [],
   "source": [
    "#injection vector\n",
    "def inj_vv(net_arr):\n",
    "    inj_v = np.zeros((no_node))\n",
    "    for i in range(is_branch.shape[0]):\n",
    "        node_from = is_branch[i,1]\n",
    "        \n",
    "        node_to = is_branch[i,2]\n",
    "        \n",
    "        if node_from != 0:\n",
    "            inj_v[node_from - 1] += -is_branch[i,3]\n",
    "        if node_to != 0:\n",
    "            inj_v[node_to - 1] += is_branch[i,3]\n",
    "    return inj_v\n",
    "            \n",
    "     "
   ]
  },
  {
   "cell_type": "code",
   "execution_count": 20,
   "id": "8839b142",
   "metadata": {},
   "outputs": [
    {
     "name": "stdout",
     "output_type": "stream",
     "text": [
      "[-1.  1.  0.]\n"
     ]
    }
   ],
   "source": [
    "print(inj_vv(net_arr))"
   ]
  },
  {
   "cell_type": "code",
   "execution_count": 21,
   "id": "b59f180e",
   "metadata": {},
   "outputs": [],
   "source": [
    "#incidence matrix\n",
    "\n",
    "def cal_inc_mat(net_arr):\n",
    "    inc_mat = np.zeros((no_node,no_branches))\n",
    "    for i in range(0,no_branches):\n",
    "        node_from = net_arr[i,1]\n",
    "        node_to = net_arr[i,2]\n",
    "        if node_from != 0:\n",
    "            inc_mat[node_from - 1,i] = 1\n",
    "        if node_to != 0:\n",
    "            inc_mat[node_to - 1,i] = -1\n",
    "\n",
    "    return inc_mat\n"
   ]
  },
  {
   "cell_type": "code",
   "execution_count": 22,
   "id": "da19cbd5",
   "metadata": {},
   "outputs": [
    {
     "name": "stdout",
     "output_type": "stream",
     "text": [
      "[4 6]\n"
     ]
    }
   ],
   "source": [
    "#v rhs\n",
    "\n",
    "vrhs = vs_branch[:,3]\n",
    "print(vrhs)"
   ]
  },
  {
   "cell_type": "code",
   "execution_count": 23,
   "id": "042e6f27",
   "metadata": {},
   "outputs": [],
   "source": [
    "#branch admitance matrix\n",
    "\n",
    "def cal_bam(net_arr):\n",
    "    yyn = np.zeros((no_branches,no_branches))\n",
    "    for i in range(no_branches):\n",
    "        if net_arr[i,0] == 24:\n",
    "            yyn[i,i] = 1/net_arr[i,3]\n",
    "    return yyn"
   ]
  },
  {
   "cell_type": "code",
   "execution_count": 24,
   "id": "87833eec",
   "metadata": {},
   "outputs": [],
   "source": [
    "rhs = np.concatenate((inj_vv(net_arr),vrhs))"
   ]
  },
  {
   "cell_type": "code",
   "execution_count": 25,
   "id": "361c1cf0",
   "metadata": {},
   "outputs": [
    {
     "name": "stdout",
     "output_type": "stream",
     "text": [
      "[-3.85714286 -3.57142857]\n"
     ]
    }
   ],
   "source": [
    "#mna_computation\n",
    "\n",
    "mna = np.linalg.solve(Mna_mat,rhs)\n",
    "vn = mna[:no_node]\n",
    "i_vs = mna[no_node:]\n",
    "print(i_vs)"
   ]
  },
  {
   "cell_type": "code",
   "execution_count": 26,
   "id": "5411c7e8",
   "metadata": {},
   "outputs": [],
   "source": [
    "#branch voltage calculation\n",
    "yb = cal_bam(net_arr)\n",
    "vb = cal_inc_mat(net_arr).T@vn\n"
   ]
  },
  {
   "cell_type": "code",
   "execution_count": 27,
   "id": "b28ef346",
   "metadata": {},
   "outputs": [],
   "source": [
    "#branch current calculation\n",
    "\n",
    "ib = np.zeros(no_branches)\n",
    "cs_mask = net_arr[:,0] == 25\n",
    "vs_mask = net_arr[:,0] == 23\n",
    "ib[cs_mask] = net_arr[cs_mask][:,3]\n",
    "ib[vs_mask] = i_vs\n",
    "ib += yb @ vb"
   ]
  },
  {
   "cell_type": "code",
   "execution_count": 28,
   "id": "6f4ec50e",
   "metadata": {},
   "outputs": [
    {
     "name": "stdout",
     "output_type": "stream",
     "text": [
      "[-3.85714286 -3.57142857  2.85714286  0.28571429  3.57142857  1.        ]\n"
     ]
    }
   ],
   "source": [
    "print(ib)"
   ]
  },
  {
   "cell_type": "code",
   "execution_count": 29,
   "id": "bd47f398",
   "metadata": {},
   "outputs": [
    {
     "name": "stdout",
     "output_type": "stream",
     "text": [
      "[4.         6.         2.85714286 1.14285714 7.14285714 2.85714286]\n"
     ]
    }
   ],
   "source": [
    "print(vb)"
   ]
  },
  {
   "cell_type": "code",
   "execution_count": null,
   "id": "67f2437d",
   "metadata": {},
   "outputs": [],
   "source": []
  }
 ],
 "metadata": {
  "kernelspec": {
   "display_name": "Python 3 (ipykernel)",
   "language": "python",
   "name": "python3"
  },
  "language_info": {
   "codemirror_mode": {
    "name": "ipython",
    "version": 3
   },
   "file_extension": ".py",
   "mimetype": "text/x-python",
   "name": "python",
   "nbconvert_exporter": "python",
   "pygments_lexer": "ipython3",
   "version": "3.11.5"
  }
 },
 "nbformat": 4,
 "nbformat_minor": 5
}
